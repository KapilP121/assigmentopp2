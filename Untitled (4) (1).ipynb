{
 "cells": [
  {
   "cell_type": "code",
   "execution_count": null,
   "id": "67ac7a23-ef20-4752-8c33-b4d8a78b55a9",
   "metadata": {},
   "outputs": [],
   "source": [
    "# Q.1 What is a constructor in Python? Explain its purpose and usage."
   ]
  },
  {
   "cell_type": "code",
   "execution_count": 3,
   "id": "f5506bd2-280c-4767-a258-80951651d7d7",
   "metadata": {},
   "outputs": [
    {
     "name": "stdout",
     "output_type": "stream",
     "text": [
      "GeekforGeeks\n"
     ]
    }
   ],
   "source": [
    "# ans = In Python, a constructor is a special method that is called when an object is created. The purpose of a constructor is to initialize or assign values to the data members of the class when an object is initialized. The name of the constructor method is always __init__.\n",
    "\n",
    "# Example of default constructor : \n",
    "\n",
    "class GeekforGeeks:\n",
    "\n",
    "\t# default constructor\n",
    "\tdef __init__(self):\n",
    "\t\tself.geek = \"GeekforGeeks\"\n",
    "\n",
    "\t# a method for printing data members\n",
    "\tdef print_Geek(self):\n",
    "\t\tprint(self.geek)\n",
    "\n",
    "\n",
    "# creating object of the class\n",
    "obj = GeekforGeeks()\n",
    "\n",
    "# calling the instance method using the object obj\n",
    "obj.print_Geek()\n",
    "\n",
    "\n"
   ]
  },
  {
   "cell_type": "code",
   "execution_count": 4,
   "id": "f71fad8d-c88d-48de-b46a-a9d0da1cb268",
   "metadata": {},
   "outputs": [
    {
     "name": "stdout",
     "output_type": "stream",
     "text": [
      "Default constructor called\n",
      "Method called without a name\n",
      "Parameterized constructor called with name John\n",
      "Method called with name John\n"
     ]
    }
   ],
   "source": [
    "# Example of the parameterized constructor : \n",
    "\n",
    "class MyClass:\n",
    "\tdef __init__(self, name=None):\n",
    "\t\tif name is None:\n",
    "\t\t\tprint(\"Default constructor called\")\n",
    "\t\telse:\n",
    "\t\t\tself.name = name\n",
    "\t\t\tprint(\"Parameterized constructor called with name\", self.name)\n",
    "\t\n",
    "\tdef method(self):\n",
    "\t\tif hasattr(self, 'name'):\n",
    "\t\t\tprint(\"Method called with name\", self.name)\n",
    "\t\telse:\n",
    "\t\t\tprint(\"Method called without a name\")\n",
    "\n",
    "# Create an object of the class using the default constructor\n",
    "obj1 = MyClass()\n",
    "\n",
    "# Call a method of the class\n",
    "obj1.method()\n",
    "\n",
    "# Create an object of the class using the parameterized constructor\n",
    "obj2 = MyClass(\"John\")\n",
    "\n",
    "# Call a method of the class\n",
    "obj2.method()\n"
   ]
  },
  {
   "cell_type": "code",
   "execution_count": 6,
   "id": "3706b944-06b1-462a-9735-0fc36513a6d0",
   "metadata": {},
   "outputs": [],
   "source": [
    "# Q 2.Differentiate between a parameterless constructor and a parameterized constructor in Python\n",
    "    \n"
   ]
  },
  {
   "cell_type": "code",
   "execution_count": 7,
   "id": "4ac9cf92-2537-4cc5-8b8f-16aca1107e1f",
   "metadata": {},
   "outputs": [],
   "source": [
    "# ans = a parameterless constructor\n",
    "\n",
    "  # A parameterless constructor is used to create an object with the default values for its attributes. For example, the following code creates a new instance of the Person class with the default values for its name and age attributes:\n",
    "\n",
    "class Person:\n",
    "    def __init__(self):\n",
    "        self.name = \"John Doe\"\n",
    "        self.age = 30"
   ]
  },
  {
   "cell_type": "code",
   "execution_count": 9,
   "id": "a95efd32-905c-4ac7-a0bd-b13ab06aff08",
   "metadata": {},
   "outputs": [],
   "source": [
    " # a parameterized constructor\n",
    "    \n",
    "   # A parameterized constructor is used to create an object with custom values for its attributes. For example, the following code creates a new instance of the Person class with the custom values \"Jane Doe\" for the name attribute and 25 for the age attribute:\n",
    "class Person:\n",
    "    def __init__(self, name, age):\n",
    "        self.name = name\n",
    "        self.age = age"
   ]
  },
  {
   "cell_type": "code",
   "execution_count": 10,
   "id": "ecc7db40-94b1-459d-be6b-bdef4ecb8dc9",
   "metadata": {},
   "outputs": [],
   "source": [
    "# Q3 How do you define a constructor in a Python class? Provide an example."
   ]
  },
  {
   "cell_type": "code",
   "execution_count": 11,
   "id": "80cc0b08-cd53-461d-95f7-0b46effee862",
   "metadata": {},
   "outputs": [],
   "source": [
    " # ans = In Python, the constructor is a method that is called when an object is created. It is used to initialize the object's attributes. The name of the constructor method is always __init__.\n",
    "\n",
    "    # The syntax for defining a constructor in Python is:\n",
    "    \n",
    "def __init__(self, *args, **kwargs):\n",
    "  # Initialize the object's attributes.\n",
    "  pass    "
   ]
  },
  {
   "cell_type": "code",
   "execution_count": 14,
   "id": "d73b96c9-2450-4927-a869-adb90b855948",
   "metadata": {},
   "outputs": [],
   "source": [
    "# For example, the following code defines a constructor for a class called Person:\n",
    "\n",
    "class Person:\n",
    "    def __init__(self, name, age):\n",
    "        self.name = name\n",
    "        self.age = age"
   ]
  },
  {
   "cell_type": "code",
   "execution_count": 17,
   "id": "195bdf95-3f09-4986-b8ef-cc822f083429",
   "metadata": {},
   "outputs": [],
   "source": [
    "kapil=Person(\"ram\",30)"
   ]
  },
  {
   "cell_type": "code",
   "execution_count": 19,
   "id": "75fe3818-abca-41a9-8342-f2a891161be4",
   "metadata": {},
   "outputs": [
    {
     "data": {
      "text/plain": [
       "30"
      ]
     },
     "execution_count": 19,
     "metadata": {},
     "output_type": "execute_result"
    }
   ],
   "source": [
    "kapil.age"
   ]
  },
  {
   "cell_type": "code",
   "execution_count": 20,
   "id": "8dce473e-72f6-42a4-94bb-438870d17803",
   "metadata": {},
   "outputs": [
    {
     "data": {
      "text/plain": [
       "'ram'"
      ]
     },
     "execution_count": 20,
     "metadata": {},
     "output_type": "execute_result"
    }
   ],
   "source": [
    "kapil.name"
   ]
  },
  {
   "cell_type": "code",
   "execution_count": 21,
   "id": "6bf8def2-a922-41bc-b7bf-ddd158b62683",
   "metadata": {},
   "outputs": [],
   "source": [
    "# Q4 Explain the `__init__` method in Python and its role in constructors."
   ]
  },
  {
   "cell_type": "code",
   "execution_count": 22,
   "id": "980f64b6-15f2-4b3d-9407-bc3211978a76",
   "metadata": {},
   "outputs": [],
   "source": [
    "# ans= The __init__ method is a special method in Python that is called when an object is created from a class. It is also known as the constructor. The __init__ method allows you to initialize the attributes (variables) of an object.\n",
    "\n",
    "#The syntax for the __init__ method is as \n",
    "\n",
    "def __init__(self, *args, **kwargs):\n",
    "    # Initialize the attributes of the object.\n",
    "    pass"
   ]
  },
  {
   "cell_type": "code",
   "execution_count": 24,
   "id": "d40f2506-d080-4a25-b6e2-46de80f248d2",
   "metadata": {},
   "outputs": [],
   "source": [
    "# The __init__ method can be used to initialize any attributes of the object. For example, the following code initializes the name and age attributes of the Person class:\n",
    "\n",
    "class Person:\n",
    "    def __init__(self, name, age):\n",
    "        self.name = name\n",
    "        self.age = age"
   ]
  },
  {
   "cell_type": "code",
   "execution_count": 25,
   "id": "a26c178c-8882-4ceb-9c8d-116e68f23b4f",
   "metadata": {},
   "outputs": [],
   "source": [
    "# Q Create a Python class called `BankAccount` with private attributes for the account balance (`__balance`"
   ]
  },
  {
   "cell_type": "code",
   "execution_count": 27,
   "id": "5c62191b-ddc2-4cc9-9266-27f790783d85",
   "metadata": {},
   "outputs": [
    {
     "data": {
      "text/plain": [
       "34554"
      ]
     },
     "execution_count": 27,
     "metadata": {},
     "output_type": "execute_result"
    }
   ],
   "source": [
    "class bank :\n",
    "    def __init__(self,account_number , balance) :\n",
    "        self._account_number = account_number\n",
    "        self.__balance = balance\n",
    "    def check_balance(self, password):\n",
    "        if password == \"mysecurepass\":\n",
    "            return self.__balance\n",
    "        else :\n",
    "            return \"incorrect passord\"\n",
    "kapil= bank(23442 , 34554)\n",
    "kapil.check_balance(\"mysecurepass\")"
   ]
  },
  {
   "cell_type": "code",
   "execution_count": 28,
   "id": "f5dac603-b822-487f-8f44-57713fa8d880",
   "metadata": {},
   "outputs": [],
   "source": [
    "# Create a Python class called `Employee` with private attributes for salary (`__salary`) and employee ID (`__employee_id`). Provide a method to calculate yearly bonuses"
   ]
  },
  {
   "cell_type": "code",
   "execution_count": 29,
   "id": "cba2b133-b8e6-4e9e-90ab-54cb02043b93",
   "metadata": {},
   "outputs": [],
   "source": [
    "class Employee:\n",
    "\n",
    "    def __init__(self, employee_id, salary):\n",
    "        self._employee_id = employee_id\n",
    "        self._salary = salary\n",
    "\n",
    "    def get_employee_id(self):\n",
    "        return self._employee_id\n",
    "\n",
    "    def get_salary(self):\n",
    "        return self._salary\n",
    "\n",
    "    def set_salary(self, new_salary):\n",
    "        self._salary = new_salary\n",
    "\n",
    "    def calculate_yearly_bonus(self):\n",
    "        bonus = self._salary * 0.1\n",
    "        return bonus"
   ]
  },
  {
   "cell_type": "code",
   "execution_count": 30,
   "id": "04f04464-4808-4648-801a-50f3e4837f52",
   "metadata": {},
   "outputs": [],
   "source": [
    "employee = Employee(1234, 100000)"
   ]
  },
  {
   "cell_type": "code",
   "execution_count": 32,
   "id": "731821a7-660c-4cbe-a0ac-feb0f1d89716",
   "metadata": {},
   "outputs": [
    {
     "data": {
      "text/plain": [
       "1234"
      ]
     },
     "execution_count": 32,
     "metadata": {},
     "output_type": "execute_result"
    }
   ],
   "source": [
    "employee.get_employee_id()"
   ]
  },
  {
   "cell_type": "code",
   "execution_count": 33,
   "id": "649c75f9-1aca-4b43-83b3-a8fa14f0aad3",
   "metadata": {},
   "outputs": [
    {
     "data": {
      "text/plain": [
       "10000.0"
      ]
     },
     "execution_count": 33,
     "metadata": {},
     "output_type": "execute_result"
    }
   ],
   "source": [
    "employee.calculate_yearly_bonus()"
   ]
  },
  {
   "cell_type": "code",
   "execution_count": 35,
   "id": "e313f49f-13d7-41b3-91ab-39ac99dc6751",
   "metadata": {},
   "outputs": [],
   "source": [
    "# mWhat is the purpose of the `__del__` method in Python classes, and how does it relate to constructors?"
   ]
  },
  {
   "cell_type": "code",
   "execution_count": 36,
   "id": "bfc16ac1-2ba0-4083-96dc-2078f5c8a44c",
   "metadata": {},
   "outputs": [
    {
     "data": {
      "text/plain": [
       "'The __del__ method in Python classes is called when an object is about to be deleted. It is used to perform any cleanup tasks that need to be done before the object is garbage collected. For example, you might use the __del__ method to close any open files or release any other resources that the object is using.\\nThe __del__ method is called automatically by the Python interpreter, so you do not need to call it yourself. However, it is important to note that the __del__ method is not always called, so you should not rely on it to do any critical tasks.'"
      ]
     },
     "execution_count": 36,
     "metadata": {},
     "output_type": "execute_result"
    }
   ],
   "source": [
    "'''The __del__ method in Python classes is called when an object is about to be deleted. It is used to perform any cleanup tasks that need to be done before the object is garbage collected. For example, you might use the __del__ method to close any open files or release any other resources that the object is using.\n",
    "The __del__ method is called automatically by the Python interpreter, so you do not need to call it yourself. However, it is important to note that the __del__ method is not always called, so you should not rely on it to do any critical tasks.'''\n"
   ]
  },
  {
   "cell_type": "code",
   "execution_count": 37,
   "id": "2daeb554-ece9-454e-9d8d-7a33140152c4",
   "metadata": {},
   "outputs": [],
   "source": [
    "# Here is an example of a __del__ method in use:\n",
    "\n",
    "class MyClass:\n",
    "    def __init__(self):\n",
    "        print(\"MyClass object created\")\n",
    "\n",
    "    def __del__(self):\n",
    "        print(\"MyClass object deleted\")"
   ]
  },
  {
   "cell_type": "code",
   "execution_count": 3,
   "id": "b26e602e-8af1-4521-aadf-047670c4cfec",
   "metadata": {},
   "outputs": [],
   "source": [
    "class pwskills :\n",
    "    \n",
    "    def __init__(self, mentor):\n",
    "        self.mentor = mentor \n",
    "        \n",
    "    def mentor_name(self):\n",
    "        print(self.mentor)\n",
    "        \n",
    "class datascience(pwskills):\n",
    "    def __init__(self, mentor ,mentor_mail_id):\n",
    "        self.mentor = mentor\n",
    "        self.mentor_mail_id = mentor_mail_id\n",
    "        \n",
    "    def show_info(self) :\n",
    "        print(self.mentor , self.mentor_mail_id)"
   ]
  },
  {
   "cell_type": "code",
   "execution_count": 4,
   "id": "558c3fc2-cb67-437c-8c82-4889159e6dc7",
   "metadata": {},
   "outputs": [],
   "source": [
    "python_basic = datascience(\"sudh\" , \"sdfdsf@gmail.com\")"
   ]
  },
  {
   "cell_type": "code",
   "execution_count": 5,
   "id": "e282febd-e910-42ff-8de9-4a4cb0f52d0c",
   "metadata": {},
   "outputs": [
    {
     "name": "stdout",
     "output_type": "stream",
     "text": [
      "sudh sdfdsf@gmail.com\n"
     ]
    }
   ],
   "source": [
    "python_basic.show_info()"
   ]
  },
  {
   "cell_type": "code",
   "execution_count": 6,
   "id": "7e80fa0f-77c6-4348-846e-869f29d80a77",
   "metadata": {},
   "outputs": [
    {
     "name": "stdout",
     "output_type": "stream",
     "text": [
      "sudh\n"
     ]
    }
   ],
   "source": [
    "python_basic.mentor_name()"
   ]
  },
  {
   "cell_type": "code",
   "execution_count": 7,
   "id": "0bf1d3a3-3bc2-4048-8000-e6b0f0a0dc1a",
   "metadata": {},
   "outputs": [],
   "source": [
    "class pwskills :\n",
    "    \n",
    "    def __init__(self, mentor):\n",
    "        self.mentor = mentor \n",
    "        \n",
    "    def mentor_name(self):\n",
    "        print(self.mentor)\n",
    "        \n",
    "class datascience(pwskills):\n",
    "    def __init__(self, mentor ,mentor_mail_id):\n",
    "        #self.mentor = mentor\n",
    "        super().__init__(mentor)\n",
    "        self.mentor_mail_id = mentor_mail_id\n",
    "        \n",
    "    def show_info(self) :\n",
    "        super().mentor_name()\n",
    "        print(self.mentor , self.mentor_mail_id)"
   ]
  },
  {
   "cell_type": "code",
   "execution_count": 8,
   "id": "c12acfc9-cb30-46e8-835b-45637316d705",
   "metadata": {},
   "outputs": [],
   "source": [
    "python_basic = datascience(\"sudh\" , \"sdfdsf@gmail.com\")"
   ]
  },
  {
   "cell_type": "code",
   "execution_count": 9,
   "id": "fea72d2f-f15c-4daf-88a3-330ad3ef61e7",
   "metadata": {},
   "outputs": [
    {
     "name": "stdout",
     "output_type": "stream",
     "text": [
      "sudh\n",
      "sudh sdfdsf@gmail.com\n"
     ]
    }
   ],
   "source": [
    "python_basic.show_info()"
   ]
  },
  {
   "cell_type": "code",
   "execution_count": 10,
   "id": "dc12fe97-5441-47ed-a02b-49a53f6d6196",
   "metadata": {},
   "outputs": [
    {
     "name": "stdout",
     "output_type": "stream",
     "text": [
      "sudh\n"
     ]
    }
   ],
   "source": [
    "python_basic.mentor_name()"
   ]
  },
  {
   "cell_type": "code",
   "execution_count": 11,
   "id": "1154c2dc-a46d-4c8e-bff6-0d0651da5954",
   "metadata": {},
   "outputs": [],
   "source": [
    "class human:\n",
    "    def __init__(self) :\n",
    "        pass\n",
    "    \n",
    "    def eat(self):\n",
    "        print(\"print the eat method from human\")"
   ]
  },
  {
   "cell_type": "code",
   "execution_count": 12,
   "id": "39cfa181-71c3-4711-a997-6f0f946c1fd8",
   "metadata": {},
   "outputs": [],
   "source": [
    "class male(human):\n",
    "    def __init__(self, name):\n",
    "        self.name = name\n",
    "    \n",
    "    def eat(self):\n",
    "        super().eat()\n",
    "        print(self.name)   "
   ]
  },
  {
   "cell_type": "code",
   "execution_count": 13,
   "id": "151108a2-09b9-4303-9447-7781a89f202c",
   "metadata": {},
   "outputs": [],
   "source": [
    "sudh = male(\"sudhanshu\")"
   ]
  },
  {
   "cell_type": "code",
   "execution_count": 14,
   "id": "51a47da4-0034-44ea-8672-256944603072",
   "metadata": {},
   "outputs": [
    {
     "name": "stdout",
     "output_type": "stream",
     "text": [
      "print the eat method from human\n",
      "sudhanshu\n"
     ]
    }
   ],
   "source": [
    "sudh.eat()"
   ]
  },
  {
   "cell_type": "code",
   "execution_count": 15,
   "id": "5dd66212-f7fd-464f-b7ba-6b8f862320ce",
   "metadata": {},
   "outputs": [],
   "source": [
    "class fileopener:\n",
    "    \n",
    "    def __init__(self,filename):\n",
    "        self.filename = filename\n",
    "        \n",
    "    def open_file(self):\n",
    "        print(\"this will open the file \" , self.filename)\n",
    "        \n",
    "    def __del__(self):\n",
    "        self.filename"
   ]
  },
  {
   "cell_type": "code",
   "execution_count": 16,
   "id": "987b6190-0086-48db-a578-4c6d4e744207",
   "metadata": {},
   "outputs": [],
   "source": [
    "f1 = fileopener(\"f1.txt\")"
   ]
  },
  {
   "cell_type": "code",
   "execution_count": 17,
   "id": "0abdf5a7-92f3-41a2-82ba-db7e8bc1093c",
   "metadata": {},
   "outputs": [
    {
     "name": "stdout",
     "output_type": "stream",
     "text": [
      "this will open the file  f1.txt\n"
     ]
    }
   ],
   "source": [
    "f1.open_file()"
   ]
  },
  {
   "cell_type": "code",
   "execution_count": 18,
   "id": "3cef0e56-0140-470a-aec4-807cb30165a0",
   "metadata": {},
   "outputs": [],
   "source": [
    "import time \n",
    "class timer:\n",
    "    def __init__(self):\n",
    "        self.start_time = time.time()\n",
    "        \n",
    "    def task(self):\n",
    "        time_spent = time.time() - self.start_time\n",
    "        print(time_spent)\n",
    "        \n",
    "    def __del__(self):\n",
    "        print(\"\")\n",
    "        \n",
    "    def __str__(self) :\n",
    "        return \"this is my class timer\""
   ]
  },
  {
   "cell_type": "code",
   "execution_count": 19,
   "id": "8d7f6cd9-b5de-446c-b247-fb44cc4aeaab",
   "metadata": {},
   "outputs": [],
   "source": [
    "t1 = timer()"
   ]
  },
  {
   "cell_type": "code",
   "execution_count": 20,
   "id": "87e1c7a4-fb04-4b1c-817f-7ab03639be7a",
   "metadata": {},
   "outputs": [
    {
     "name": "stdout",
     "output_type": "stream",
     "text": [
      "14.772513151168823\n"
     ]
    }
   ],
   "source": [
    "t1.task()"
   ]
  },
  {
   "cell_type": "code",
   "execution_count": 21,
   "id": "7a067a89-a403-45af-b02e-65a3a4f7a9d4",
   "metadata": {},
   "outputs": [
    {
     "name": "stdout",
     "output_type": "stream",
     "text": [
      "this is my class timer\n"
     ]
    }
   ],
   "source": [
    "print(t1)"
   ]
  },
  {
   "cell_type": "code",
   "execution_count": 22,
   "id": "64f3735e-9c49-4e3b-adc1-f9b88ae9b409",
   "metadata": {},
   "outputs": [],
   "source": [
    "def test(func):\n",
    "    def inner_test():\n",
    "        print(\"this is the start of my inner test\")\n",
    "        func()\n",
    "        print(\"this the end of my inner test\")\n",
    "        \n",
    "    return inner_test\n",
    "\n",
    "@test\n",
    "def test1():\n",
    "    print(\"thsi is my test1\")   "
   ]
  },
  {
   "cell_type": "code",
   "execution_count": 23,
   "id": "ccc61b4c-19cb-44a4-af45-cfc76249bdff",
   "metadata": {},
   "outputs": [
    {
     "name": "stdout",
     "output_type": "stream",
     "text": [
      "this is the start of my inner test\n",
      "thsi is my test1\n",
      "this the end of my inner test\n"
     ]
    }
   ],
   "source": [
    "test1()"
   ]
  },
  {
   "cell_type": "code",
   "execution_count": 24,
   "id": "88cc1d66-97e6-4ce3-a968-bf16f25580b3",
   "metadata": {},
   "outputs": [],
   "source": [
    "import time \n",
    "def print_list(l):\n",
    "    start_time = time.time()\n",
    "    for i in l :\n",
    "            print(i)\n",
    "    end_time = time.time()\n",
    "    total_time = end_time - start_time\n",
    "    print(total_time)"
   ]
  },
  {
   "cell_type": "code",
   "execution_count": 25,
   "id": "6e96ceb8-c23b-4a66-a79c-4b6cc8453acb",
   "metadata": {},
   "outputs": [],
   "source": [
    "def print_key(d):\n",
    "    \n",
    "    print(d.keys())\n"
   ]
  },
  {
   "cell_type": "code",
   "execution_count": 26,
   "id": "dc6eada3-1dae-472e-b495-d22fc226cbf6",
   "metadata": {},
   "outputs": [],
   "source": [
    "def find_time(func):\n",
    "    def cal_time(*args):\n",
    "        start_time = time.time()\n",
    "        func(*args)\n",
    "        end_time = time.time()\n",
    "        total_time = end_time - start_time\n",
    "        print(total_time)\n",
    "        \n",
    "    return cal_time"
   ]
  },
  {
   "cell_type": "code",
   "execution_count": 27,
   "id": "1f4ccf80-d996-4c6b-8858-e74d5d0c3696",
   "metadata": {},
   "outputs": [],
   "source": [
    "@find_time\n",
    "def print_key(d):\n",
    "    \n",
    "    print(d.keys())"
   ]
  },
  {
   "cell_type": "code",
   "execution_count": 28,
   "id": "083d165b-f3fe-4c6c-b23c-8239b2c1523a",
   "metadata": {},
   "outputs": [
    {
     "name": "stdout",
     "output_type": "stream",
     "text": [
      "dict_keys(['key', 'name'])\n",
      "5.435943603515625e-05\n"
     ]
    }
   ],
   "source": [
    "print_key({\"key\":\"value\" ,\"name\" : \"sudh\"})"
   ]
  },
  {
   "cell_type": "code",
   "execution_count": 29,
   "id": "12b94d8a-8cc6-4e21-bd9e-bd7bcbc2b488",
   "metadata": {},
   "outputs": [],
   "source": [
    "@find_time\n",
    "def print_list(l):\n",
    "    for i in l :\n",
    "            print(i)"
   ]
  },
  {
   "cell_type": "code",
   "execution_count": 30,
   "id": "89f4dea0-2913-447e-869a-73fcb8afd7d3",
   "metadata": {},
   "outputs": [
    {
     "name": "stdout",
     "output_type": "stream",
     "text": [
      "23\n",
      "4\n",
      "5\n",
      "5\n",
      "6\n",
      "67\n",
      "7\n",
      "8\n",
      "7.915496826171875e-05\n"
     ]
    }
   ],
   "source": [
    "print_list([23,4,5,5,6,67,7,8])"
   ]
  },
  {
   "cell_type": "code",
   "execution_count": 31,
   "id": "d4d6748d-139d-4048-8cdc-b8bc1131ff68",
   "metadata": {},
   "outputs": [],
   "source": [
    "import logging\n",
    "def log_fun(func):\n",
    "    def log_inner(*args):\n",
    "        logging.basicConfig(filename = \"test.log\" , level=logging.INFO)\n",
    "        logging.info(\"this is the a start of my func\")\n",
    "        func(*args)\n",
    "        logging.info(\"this is the a end of my func\")\n",
    "    return log_inner\n",
    "        "
   ]
  },
  {
   "cell_type": "code",
   "execution_count": 32,
   "id": "6f8ca4f4-372d-49b4-be32-e84bdc29f6de",
   "metadata": {},
   "outputs": [],
   "source": [
    "@find_time\n",
    "@log_fun\n",
    "def print_list(l):\n",
    "    for i in l :\n",
    "            print(i)"
   ]
  },
  {
   "cell_type": "code",
   "execution_count": 33,
   "id": "b7820321-83bc-4771-acbf-89f250abd501",
   "metadata": {},
   "outputs": [
    {
     "name": "stdout",
     "output_type": "stream",
     "text": [
      "23\n",
      "4\n",
      "5\n",
      "5\n",
      "6\n",
      "67\n",
      "7\n",
      "8\n",
      "0.0015549659729003906\n"
     ]
    }
   ],
   "source": [
    "print_list([23,4,5,5,6,67,7,8])"
   ]
  },
  {
   "cell_type": "code",
   "execution_count": 34,
   "id": "b93d0244-d4ba-4a49-a4c2-b6038ebce0b5",
   "metadata": {},
   "outputs": [],
   "source": [
    "class sudh:\n",
    "    def __init__(self , subject):\n",
    "        self.__subject = subject\n",
    "        "
   ]
  },
  {
   "cell_type": "code",
   "execution_count": 35,
   "id": "ee24cfb4-6d7c-4f99-a93a-d1627088ec88",
   "metadata": {},
   "outputs": [],
   "source": [
    "s1 = sudh(\"data science\")"
   ]
  },
  {
   "cell_type": "code",
   "execution_count": 36,
   "id": "8d7267a7-e4f9-4ae3-a4eb-f06e17f4a839",
   "metadata": {},
   "outputs": [],
   "source": [
    "s1._sudh__subject = \"Big data\""
   ]
  },
  {
   "cell_type": "code",
   "execution_count": 37,
   "id": "fe70f4af-ef7e-448f-b8fb-77045bcb11ac",
   "metadata": {},
   "outputs": [
    {
     "data": {
      "text/plain": [
       "'Big data'"
      ]
     },
     "execution_count": 37,
     "metadata": {},
     "output_type": "execute_result"
    }
   ],
   "source": [
    "s1._sudh__subject"
   ]
  },
  {
   "cell_type": "code",
   "execution_count": 38,
   "id": "7c90dc93-0032-4dbf-823c-1acf5973f254",
   "metadata": {},
   "outputs": [],
   "source": [
    "class sudh:\n",
    "    def __init__(self , subject):\n",
    "        self.__subject = subject\n",
    "        \n",
    "    @property\n",
    "    def subject1(self):\n",
    "        return self.__subject\n",
    "    \n",
    "    @subject1.setter\n",
    "    def subject1(self,subject):\n",
    "        self.__subject = subject\n",
    "    \n",
    "    @subject1.getter\n",
    "    def subject1(self):\n",
    "        return self.__subject"
   ]
  },
  {
   "cell_type": "code",
   "execution_count": 39,
   "id": "030ae281-895e-425f-ac09-8b8e9888e7f1",
   "metadata": {},
   "outputs": [],
   "source": [
    "s2 = sudh(\"data analytics\")"
   ]
  },
  {
   "cell_type": "code",
   "execution_count": 40,
   "id": "bf5eee5d-16e1-4735-b3af-bdaba2434989",
   "metadata": {},
   "outputs": [
    {
     "data": {
      "text/plain": [
       "'data analytics'"
      ]
     },
     "execution_count": 40,
     "metadata": {},
     "output_type": "execute_result"
    }
   ],
   "source": [
    "s2.subject1"
   ]
  },
  {
   "cell_type": "code",
   "execution_count": null,
   "id": "84f2e497-cb46-4beb-887f-767c31a7d000",
   "metadata": {},
   "outputs": [],
   "source": []
  }
 ],
 "metadata": {
  "kernelspec": {
   "display_name": "Python 3 (ipykernel)",
   "language": "python",
   "name": "python3"
  },
  "language_info": {
   "codemirror_mode": {
    "name": "ipython",
    "version": 3
   },
   "file_extension": ".py",
   "mimetype": "text/x-python",
   "name": "python",
   "nbconvert_exporter": "python",
   "pygments_lexer": "ipython3",
   "version": "3.10.8"
  }
 },
 "nbformat": 4,
 "nbformat_minor": 5
}
